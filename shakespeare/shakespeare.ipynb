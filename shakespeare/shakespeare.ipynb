{
 "cells": [
  {
   "cell_type": "markdown",
   "id": "647ffc32",
   "metadata": {},
   "source": [
    "## Quanitfying Shakespeare\n",
    "\n",
    "What is the frequency of letters Shakespeare used in their complete works?"
   ]
  },
  {
   "cell_type": "code",
   "execution_count": null,
   "id": "0e631702",
   "metadata": {},
   "outputs": [
    {
     "name": "stdout",
     "output_type": "stream",
     "text": [
      "That’s for thyself to breed another thee,\n",
      "\n"
     ]
    }
   ],
   "source": [
    "lines: list[str] = []\n",
    "file_handle = open(\"shakespeare.txt\", \"r\", encoding=\"utf8\")\n",
    "lines = file_handle.readlines()\n",
    "print(lines[100])\n",
    "file_handle.close()"
   ]
  },
  {
   "cell_type": "code",
   "execution_count": 9,
   "id": "d21d0012",
   "metadata": {},
   "outputs": [
    {
     "name": "stdout",
     "output_type": "stream",
     "text": [
      "{'\\n': 195958, ' ': 828938, '1': 251, 'f': 86039, 'r': 252569, 'o': 332835, 'm': 118009, 'a': 311115, 'i': 270991, 'e': 485743, 's': 268258, 't': 354684, 'c': 91830, 'u': 137306, 'w': 96161, 'd': 159283, 'n': 261360, ',': 94573, 'h': 256569, 'b': 64084, 'y': 99428, '’': 26332, 'g': 72735, 'v': 40426, 'p': 61490, 'l': 181154, ':': 3415, '-': 3895, 'k': 37838, '.': 91162, '2': 172, 'z': 1795, ';': 12919, '‘': 372, 'x': 5399, '3': 97, '?': 11396, '4': 147, 'q': 4000, '5': 89, '6': 140, '7': 77, 'j': 4935, '(': 217, ')': 217, '8': 139, '9': 83, '0': 136, '—': 2503, '!': 7805, 'æ': 71, '&': 48, '“': 1232, '”': 1059, '[': 4255, '_': 9702, ']': 4253, 'œ': 17, 'à': 18, 'é': 53, 'è': 38, 'â': 2, 'ç': 52, 'î': 2, 'ê': 6, '\\t': 4, 'ë': 4, '…': 3, \"'\": 1, '*': 6}\n"
     ]
    }
   ],
   "source": [
    "frequencies: dict[str, int] = {}\n",
    "\n",
    "# For every line in lines,\n",
    "for line in lines:\n",
    "    #Visit every letter\n",
    "        #If letter is already in a key in frequencies, increase value\n",
    "        # Otherwise, add the key-value pair\n",
    "    for char in line:\n",
    "        lower_char: str = char.lower()\n",
    "        if lower_char in frequencies:\n",
    "            frequencies[lower_char] += 1\n",
    "        else:\n",
    "            frequencies[lower_char] = 1\n",
    "\n",
    "print(frequencies)"
   ]
  }
 ],
 "metadata": {
  "kernelspec": {
   "display_name": "Python 3",
   "language": "python",
   "name": "python3"
  },
  "language_info": {
   "codemirror_mode": {
    "name": "ipython",
    "version": 3
   },
   "file_extension": ".py",
   "mimetype": "text/x-python",
   "name": "python",
   "nbconvert_exporter": "python",
   "pygments_lexer": "ipython3",
   "version": "3.12.4"
  }
 },
 "nbformat": 4,
 "nbformat_minor": 5
}
